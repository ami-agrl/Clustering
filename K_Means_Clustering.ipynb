{
  "nbformat": 4,
  "nbformat_minor": 0,
  "metadata": {
    "colab": {
      "name": "K-Means-Clustering.ipynb",
      "provenance": [],
      "authorship_tag": "ABX9TyOl8EU+yGySpg+iEQALSOXa"
    },
    "kernelspec": {
      "name": "python3",
      "display_name": "Python 3"
    }
  },
  "cells": [
    {
      "cell_type": "markdown",
      "metadata": {
        "id": "lW4VPZWxJlu3",
        "colab_type": "text"
      },
      "source": [
        "### **K-Means Clustering Algorithm**"
      ]
    },
    {
      "cell_type": "code",
      "metadata": {
        "id": "hmTf1DSDgzOb",
        "colab_type": "code",
        "outputId": "072701dc-611f-4b36-a300-f061cbe534bf",
        "colab": {
          "base_uri": "https://localhost:8080/",
          "height": 34
        }
      },
      "source": [
        "## For knowledge . How to make a dummy classification dataset\n",
        "from sklearn.datasets import make_classification\n",
        "x,y=make_classification(n_samples=2000,n_classes=2,weights=[1,1],random_state=1)\n",
        "x.shape"
      ],
      "execution_count": 0,
      "outputs": [
        {
          "output_type": "execute_result",
          "data": {
            "text/plain": [
              "(2000, 20)"
            ]
          },
          "metadata": {
            "tags": []
          },
          "execution_count": 21
        }
      ]
    },
    {
      "cell_type": "code",
      "metadata": {
        "id": "qcVq9rLCFUVM",
        "colab_type": "code",
        "colab": {}
      },
      "source": [
        "#Importing required libraries\n",
        "import numpy as np\n",
        "import pandas as pd\n",
        "import matplotlib.pyplot as plt\n",
        "import seaborn as sns\n",
        "sns.set()\n",
        "from sklearn.cluster import KMeans\n",
        "from sklearn import preprocessing"
      ],
      "execution_count": 0,
      "outputs": []
    },
    {
      "cell_type": "code",
      "metadata": {
        "id": "dLoJRRP7Jig-",
        "colab_type": "code",
        "colab": {}
      },
      "source": [
        "# Load the dataset\n",
        "\n",
        "raw_data = pd.read_csv('/content/sample_data/Countries_exercise.csv')\n",
        "\n",
        "# Remove the duplicate index column from the dataset.\n",
        "\n",
        "data = raw_data.copy()\n"
      ],
      "execution_count": 0,
      "outputs": []
    },
    {
      "cell_type": "code",
      "metadata": {
        "id": "YC_TJzNXKNg8",
        "colab_type": "code",
        "colab": {}
      },
      "source": [
        "# Plot the 'Longtitude'and 'Latitude' columns.\n",
        "\n",
        "plt.scatter(data['Longitude'], data['Latitude'])\n",
        "plt.xlabel('Longitude')\n",
        "plt.ylabel('Latitude')\n",
        "plt.show()\n",
        "#plt.xlim(-180,180)\n",
        "#plt.ylim(-90, 90)"
      ],
      "execution_count": 0,
      "outputs": []
    },
    {
      "cell_type": "code",
      "metadata": {
        "id": "ndBqQAkPKNH_",
        "colab_type": "code",
        "colab": {}
      },
      "source": [
        "## Select the required features\n",
        "## Create a copy of that data and remove all parameters apart from the features we wanted to plot.\n",
        "\n",
        "x = data.iloc[:,1:3]\n",
        "x"
      ],
      "execution_count": 0,
      "outputs": []
    },
    {
      "cell_type": "code",
      "metadata": {
        "id": "FLkQuao9KYNj",
        "colab_type": "code",
        "colab": {}
      },
      "source": [
        "## Clustering\n",
        "\n",
        "kmeans = KMeans(3)\n",
        "kmeans.fit(x)\n",
        "\n",
        "### Clustering Resutls\n",
        "identified_clusters = kmeans.fit_predict(x)\n",
        "identified_clusters"
      ],
      "execution_count": 0,
      "outputs": []
    },
    {
      "cell_type": "code",
      "metadata": {
        "colab_type": "code",
        "id": "i1g6IvoJJSwv",
        "colab": {}
      },
      "source": [
        "# The original dataset with cluster column.\n",
        "\n",
        "data_with_clusters = data.copy()\n",
        "data_with_clusters['Cluster'] = identified_clusters\n",
        "data_with_clusters"
      ],
      "execution_count": 0,
      "outputs": []
    },
    {
      "cell_type": "code",
      "metadata": {
        "id": "hzKtS34dKveA",
        "colab_type": "code",
        "colab": {}
      },
      "source": [
        "# Scatter plot with final clusters.\n",
        "\n",
        "plt.scatter(data['Longitude'], data['Latitude'],c=data_with_clusters['Cluster'], cmap = 'rainbow')\n",
        "plt.show()\n",
        "##plt.xlim(-180,180)\n",
        "##plt.ylim(-90, 90)"
      ],
      "execution_count": 0,
      "outputs": []
    },
    {
      "cell_type": "code",
      "metadata": {
        "id": "7M_UIoIcOTAy",
        "colab_type": "code",
        "colab": {}
      },
      "source": [
        "## Standardize the variables\n",
        "\n",
        "x_scaled = preprocessing.scale(x)\n",
        "x_scaled\n",
        "\n",
        "## Take advantage of the Elbow method\n",
        "\n",
        "wcss =[]\n",
        "for i in range(1,10):\n",
        "    kmeans = KMeans(i)\n",
        "    kmeans.fit(x_scaled)\n",
        "    wcss.append(kmeans.inertia_)\n",
        "   \n",
        "wcss\n",
        "\n",
        "plt.plot(range(1,10),wcss)\n",
        "plt.xlabel('Number of clusters')\n",
        "plt.ylabel('WCSS')"
      ],
      "execution_count": 0,
      "outputs": []
    },
    {
      "cell_type": "code",
      "metadata": {
        "id": "K2I5esbSZOQh",
        "colab_type": "code",
        "colab": {}
      },
      "source": [
        "# Handling Categorical features\n",
        "data_mapped = data.copy()\n",
        "data_mapped['Language']=data_mapped['Language'].map({'English':0,'French':1,'German':2})\n",
        "data_mapped"
      ],
      "execution_count": 0,
      "outputs": []
    },
    {
      "cell_type": "code",
      "metadata": {
        "id": "BPWUts9xeJFv",
        "colab_type": "code",
        "colab": {}
      },
      "source": [
        "# Use seaborn to make the heatmap and decide the number of clusters based on the dendrogram\n",
        "sns.clustermap(x_scaled,cmap='mako')"
      ],
      "execution_count": 0,
      "outputs": []
    }
  ]
}