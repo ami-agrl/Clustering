{
  "nbformat": 4,
  "nbformat_minor": 0,
  "metadata": {
    "colab": {
      "name": "Stock-Data-K-Means Clustering.ipynb",
      "provenance": [],
      "authorship_tag": "ABX9TyMA+25uUctgX7R6Uz1Tt8d8"
    },
    "kernelspec": {
      "name": "python3",
      "display_name": "Python 3"
    }
  },
  "cells": [
    {
      "cell_type": "code",
      "metadata": {
        "id": "TpS2JoC4n1ti",
        "colab_type": "code",
        "colab": {}
      },
      "source": [
        "## Installing Additional Libraries\n",
        "pip install pycaret\n",
        "pip install pyforest"
      ],
      "execution_count": 0,
      "outputs": []
    },
    {
      "cell_type": "code",
      "metadata": {
        "id": "jCULGjPGnHNa",
        "colab_type": "code",
        "colab": {}
      },
      "source": [
        "# to handle datasets\n",
        "import pandas as pd\n",
        "import numpy as np\n",
        "\n",
        "# for plotting\n",
        "import matplotlib.pyplot as plt\n",
        "% matplotlib inline\n",
        "\n",
        "# to divide train and test set\n",
        "from sklearn.model_selection import train_test_split\n",
        "\n",
        "# feature scaling\n",
        "from sklearn.preprocessing import StandardScaler\n",
        "\n",
        "# for tree binarisation\n",
        "from sklearn.tree import DecisionTreeRegressor\n",
        "from sklearn.model_selection import cross_val_score\n",
        "\n",
        "\n",
        "# to build the models\n",
        "from sklearn.linear_model import LinearRegression, Lasso\n",
        "from sklearn.ensemble import RandomForestRegressor\n",
        "from sklearn.svm import SVR\n",
        "import xgboost as xgb\n",
        "\n",
        "# to evaluate the models\n",
        "from sklearn.metrics import mean_squared_error\n",
        "\n",
        "pd.pandas.set_option('display.max_columns', None)\n",
        "\n",
        "import warnings\n",
        "warnings.filterwarnings('ignore')"
      ],
      "execution_count": 0,
      "outputs": []
    },
    {
      "cell_type": "code",
      "metadata": {
        "id": "XNJBvJD7eY8O",
        "colab_type": "code",
        "colab": {}
      },
      "source": [
        "# to know the number of implict imports active in case pyforest is used.\n",
        "active_imports()"
      ],
      "execution_count": 0,
      "outputs": []
    },
    {
      "cell_type": "code",
      "metadata": {
        "id": "V9wdxHcKoxBN",
        "colab_type": "code",
        "colab": {}
      },
      "source": [
        "# loading the dataset\n",
        "df=pd.read_csv('/content/sample_data/stock_data.csv')\n",
        "\n",
        "# viewing the loaded dataset\n",
        "df.head()"
      ],
      "execution_count": 0,
      "outputs": []
    },
    {
      "cell_type": "code",
      "metadata": {
        "id": "Jm1UoEVBAkNy",
        "colab_type": "code",
        "colab": {}
      },
      "source": [
        "# to see the information about data and shape of loaded dataset\n",
        "df.info()\n",
        "df.shape\n",
        "\n",
        "# to know the datatypes of the data\n",
        "df.dtypes\n",
        "\n",
        "## Checking if there is any missing values in the dataset. \n",
        "df.isnull().sum()"
      ],
      "execution_count": 0,
      "outputs": []
    },
    {
      "cell_type": "code",
      "metadata": {
        "id": "Hzyz9xVQe_9x",
        "colab_type": "code",
        "colab": {}
      },
      "source": [
        "train_x = df.drop(columns=['Y'],axis=1)\n",
        "train_y = df['Y']"
      ],
      "execution_count": 0,
      "outputs": []
    },
    {
      "cell_type": "code",
      "metadata": {
        "id": "eTmmUqQHepso",
        "colab_type": "code",
        "colab": {}
      },
      "source": [
        "# to get a glimpse of the dataset\n",
        "train_x.describe()"
      ],
      "execution_count": 0,
      "outputs": []
    },
    {
      "cell_type": "code",
      "metadata": {
        "id": "Khz14gfHeagQ",
        "colab_type": "code",
        "colab": {}
      },
      "source": [
        "# to scale the data\n",
        "train_x = StandardScaler().fit_transform(train_x) "
      ],
      "execution_count": 0,
      "outputs": []
    },
    {
      "cell_type": "code",
      "metadata": {
        "id": "bK4A6PV2-VMt",
        "colab_type": "code",
        "colab": {}
      },
      "source": [
        "train_x.head()\n",
        "train_y.head()"
      ],
      "execution_count": 0,
      "outputs": []
    },
    {
      "cell_type": "code",
      "metadata": {
        "id": "Dw6oTXIBBQqA",
        "colab_type": "code",
        "outputId": "d4c3811e-b466-4b57-bcb5-c3343b831d3c",
        "colab": {
          "base_uri": "https://localhost:8080/",
          "height": 350
        }
      },
      "source": [
        "## Using the elbow method to find the optimal number of clusters\n",
        "from sklearn.cluster import KMeans\n",
        "import seaborn as sns\n",
        "wcss = []\n",
        "for i in range(1, 10):\n",
        "    kmeans = KMeans(n_clusters = i, init = 'k-means++', random_state = 42)\n",
        "    kmeans.fit(train_x)\n",
        "    # inertia method returns wcss for that model\n",
        "    wcss.append(kmeans.inertia_)\n",
        "\n",
        "## Plotting the elbow method\n",
        "plt.figure(figsize=(10,5))\n",
        "sns.lineplot(range(1, 10), wcss,marker='o',color='red')\n",
        "plt.title('The Elbow Method')\n",
        "plt.xlabel('Number of clusters')\n",
        "plt.ylabel('WCSS')\n",
        "plt.show()"
      ],
      "execution_count": 77,
      "outputs": [
        {
          "output_type": "display_data",
          "data": {
            "image/png": "[encoded data removed]",
            "text/plain": [
              "<Figure size 720x360 with 1 Axes>"
            ]
          },
          "metadata": {
            "tags": [],
            "needs_background": "light"
          }
        }
      ]
    },
    {
      "cell_type": "code",
      "metadata": {
        "id": "EJTDictI-txH",
        "colab_type": "code",
        "colab": {
          "base_uri": "https://localhost:8080/",
          "height": 68
        },
        "outputId": "1ff1806e-2b84-436d-86d2-26faeb1b87c2"
      },
      "source": [
        "## Fitting K-Means to the dataset\n",
        "kmeans = KMeans(n_clusters = 3 , random_state = 42)\n",
        "kmeans.fit(train_x)"
      ],
      "execution_count": 78,
      "outputs": [
        {
          "output_type": "execute_result",
          "data": {
            "text/plain": [
              "KMeans(algorithm='auto', copy_x=True, init='k-means++', max_iter=300,\n",
              "       n_clusters=3, n_init=10, n_jobs=None, precompute_distances='auto',\n",
              "       random_state=42, tol=0.0001, verbose=0)"
            ]
          },
          "metadata": {
            "tags": []
          },
          "execution_count": 78
        }
      ]
    },
    {
      "cell_type": "code",
      "metadata": {
        "id": "FNcFXaA6_r6y",
        "colab_type": "code",
        "colab": {}
      },
      "source": [
        "### Clustering Resutls\n",
        "\n",
        "identified_clusters = kmeans.fit_predict(train_x)"
      ],
      "execution_count": 0,
      "outputs": []
    },
    {
      "cell_type": "code",
      "metadata": {
        "id": "EjhbvnnCDfDL",
        "colab_type": "code",
        "colab": {}
      },
      "source": [
        "data_with_clusters = train_x.copy()\n",
        "data_with_clusters['Cluster'] = identified_clusters\n",
        "data_with_clusters"
      ],
      "execution_count": 0,
      "outputs": []
    }
  ]
}